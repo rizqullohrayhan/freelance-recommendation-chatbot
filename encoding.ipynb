{
 "cells": [
  {
   "cell_type": "code",
   "execution_count": 2,
   "metadata": {},
   "outputs": [
    {
     "name": "stderr",
     "output_type": "stream",
     "text": [
      "d:\\codingproject\\Fastwork - Freelance Projek Rekomendation\\env\\Lib\\site-packages\\sentence_transformers\\cross_encoder\\CrossEncoder.py:11: TqdmWarning: IProgress not found. Please update jupyter and ipywidgets. See https://ipywidgets.readthedocs.io/en/stable/user_install.html\n",
      "  from tqdm.autonotebook import tqdm, trange\n"
     ]
    },
    {
     "name": "stdout",
     "output_type": "stream",
     "text": [
      "WARNING:tensorflow:From d:\\codingproject\\Fastwork - Freelance Projek Rekomendation\\env\\Lib\\site-packages\\keras\\src\\losses.py:2976: The name tf.losses.sparse_softmax_cross_entropy is deprecated. Please use tf.compat.v1.losses.sparse_softmax_cross_entropy instead.\n",
      "\n"
     ]
    }
   ],
   "source": [
    "import pandas as pd\n",
    "from sentence_transformers import SentenceTransformer\n",
    "import numpy as np\n",
    "from sklearn.metrics.pairwise import cosine_similarity\n",
    "from deep_translator import GoogleTranslator\n",
    "import ast"
   ]
  },
  {
   "cell_type": "code",
   "execution_count": 11,
   "metadata": {},
   "outputs": [],
   "source": [
    "df_informatika = pd.read_csv(\"data/Freelance_Teknik_Informatika_Data.csv\")\n",
    "df_bisnis = pd.read_csv(\"data/Freelance_Manajemen_Bisnis_Data.csv\")\n",
    "df_desain = pd.read_csv(\"data/Freelance_Desain_Grafis_Data.csv\")"
   ]
  },
  {
   "cell_type": "code",
   "execution_count": 12,
   "metadata": {},
   "outputs": [
    {
     "data": {
      "text/html": [
       "<div>\n",
       "<style scoped>\n",
       "    .dataframe tbody tr th:only-of-type {\n",
       "        vertical-align: middle;\n",
       "    }\n",
       "\n",
       "    .dataframe tbody tr th {\n",
       "        vertical-align: top;\n",
       "    }\n",
       "\n",
       "    .dataframe thead th {\n",
       "        text-align: right;\n",
       "    }\n",
       "</style>\n",
       "<table border=\"1\" class=\"dataframe\">\n",
       "  <thead>\n",
       "    <tr style=\"text-align: right;\">\n",
       "      <th></th>\n",
       "      <th>title</th>\n",
       "      <th>price</th>\n",
       "      <th>description</th>\n",
       "      <th>link</th>\n",
       "    </tr>\n",
       "  </thead>\n",
       "  <tbody>\n",
       "    <tr>\n",
       "      <th>0</th>\n",
       "      <td>Android Poker &amp; Slots Game</td>\n",
       "      <td>€250-750 EUR</td>\n",
       "      <td>I Am Looking For A Game Developer That Has Exp...</td>\n",
       "      <td>https://www.freelancer.co.id/projects/android/...</td>\n",
       "    </tr>\n",
       "    <tr>\n",
       "      <th>1</th>\n",
       "      <td>Android Gaming App Play Store Upload</td>\n",
       "      <td>₹1500-12500 INR</td>\n",
       "      <td>I need an experienced developer to successfull...</td>\n",
       "      <td>https://www.freelancer.co.id/projects/android/...</td>\n",
       "    </tr>\n",
       "    <tr>\n",
       "      <th>2</th>\n",
       "      <td>High-Quality Social Networking App Developer</td>\n",
       "      <td>$750-1500 CAD</td>\n",
       "      <td>I'm looking for a skilled app developer who ha...</td>\n",
       "      <td>https://www.freelancer.co.id/projects/iphone-a...</td>\n",
       "    </tr>\n",
       "    <tr>\n",
       "      <th>3</th>\n",
       "      <td>Predictive Analytics from Tabular Data</td>\n",
       "      <td>₹600-1500 INR</td>\n",
       "      <td>I need a skilled machine learning specialist t...</td>\n",
       "      <td>https://www.freelancer.co.id/projects/google-a...</td>\n",
       "    </tr>\n",
       "    <tr>\n",
       "      <th>4</th>\n",
       "      <td>Advanced E-commerce Joomla Developer</td>\n",
       "      <td>₹3000-5000 INR</td>\n",
       "      <td>I'm seeking a skilled Joomla developer to work...</td>\n",
       "      <td>https://www.freelancer.co.id/projects/joomla/a...</td>\n",
       "    </tr>\n",
       "    <tr>\n",
       "      <th>...</th>\n",
       "      <td>...</td>\n",
       "      <td>...</td>\n",
       "      <td>...</td>\n",
       "      <td>...</td>\n",
       "    </tr>\n",
       "    <tr>\n",
       "      <th>309</th>\n",
       "      <td>React Native Developer for Android App</td>\n",
       "      <td>₹600-1500 INR</td>\n",
       "      <td>I'm in need of a highly skilled React Native d...</td>\n",
       "      <td>https://www.freelancer.co.id/projects/android/...</td>\n",
       "    </tr>\n",
       "    <tr>\n",
       "      <th>310</th>\n",
       "      <td>Urgent Android App Development Needed</td>\n",
       "      <td>$15-25 USD / hour</td>\n",
       "      <td>I need an Android mobile application developed...</td>\n",
       "      <td>https://www.freelancer.co.id/projects/android/...</td>\n",
       "    </tr>\n",
       "    <tr>\n",
       "      <th>311</th>\n",
       "      <td>React Native Developer for Cross-Platform App</td>\n",
       "      <td>$30-250 SGD</td>\n",
       "      <td>I'm in need of a skilled React Native develope...</td>\n",
       "      <td>https://www.freelancer.co.id/projects/iphone-a...</td>\n",
       "    </tr>\n",
       "    <tr>\n",
       "      <th>312</th>\n",
       "      <td>Multiplayer 2D Ludo Game for Android</td>\n",
       "      <td>₹600-1500 INR</td>\n",
       "      <td>I'm looking for an experienced game developer ...</td>\n",
       "      <td>https://www.freelancer.co.id/projects/android/...</td>\n",
       "    </tr>\n",
       "    <tr>\n",
       "      <th>313</th>\n",
       "      <td>Automatic Zoom Recording Uploader Web Application</td>\n",
       "      <td>€250-750 EUR</td>\n",
       "      <td>I'm in search for an experienced full stack de...</td>\n",
       "      <td>https://www.freelancer.co.id/projects/software...</td>\n",
       "    </tr>\n",
       "  </tbody>\n",
       "</table>\n",
       "<p>314 rows × 4 columns</p>\n",
       "</div>"
      ],
      "text/plain": [
       "                                                 title              price  \\\n",
       "0                           Android Poker & Slots Game       €250-750 EUR   \n",
       "1                 Android Gaming App Play Store Upload    ₹1500-12500 INR   \n",
       "2         High-Quality Social Networking App Developer      $750-1500 CAD   \n",
       "3               Predictive Analytics from Tabular Data      ₹600-1500 INR   \n",
       "4                 Advanced E-commerce Joomla Developer     ₹3000-5000 INR   \n",
       "..                                                 ...                ...   \n",
       "309             React Native Developer for Android App      ₹600-1500 INR   \n",
       "310              Urgent Android App Development Needed  $15-25 USD / hour   \n",
       "311      React Native Developer for Cross-Platform App        $30-250 SGD   \n",
       "312               Multiplayer 2D Ludo Game for Android      ₹600-1500 INR   \n",
       "313  Automatic Zoom Recording Uploader Web Application       €250-750 EUR   \n",
       "\n",
       "                                           description  \\\n",
       "0    I Am Looking For A Game Developer That Has Exp...   \n",
       "1    I need an experienced developer to successfull...   \n",
       "2    I'm looking for a skilled app developer who ha...   \n",
       "3    I need a skilled machine learning specialist t...   \n",
       "4    I'm seeking a skilled Joomla developer to work...   \n",
       "..                                                 ...   \n",
       "309  I'm in need of a highly skilled React Native d...   \n",
       "310  I need an Android mobile application developed...   \n",
       "311  I'm in need of a skilled React Native develope...   \n",
       "312  I'm looking for an experienced game developer ...   \n",
       "313  I'm in search for an experienced full stack de...   \n",
       "\n",
       "                                                  link  \n",
       "0    https://www.freelancer.co.id/projects/android/...  \n",
       "1    https://www.freelancer.co.id/projects/android/...  \n",
       "2    https://www.freelancer.co.id/projects/iphone-a...  \n",
       "3    https://www.freelancer.co.id/projects/google-a...  \n",
       "4    https://www.freelancer.co.id/projects/joomla/a...  \n",
       "..                                                 ...  \n",
       "309  https://www.freelancer.co.id/projects/android/...  \n",
       "310  https://www.freelancer.co.id/projects/android/...  \n",
       "311  https://www.freelancer.co.id/projects/iphone-a...  \n",
       "312  https://www.freelancer.co.id/projects/android/...  \n",
       "313  https://www.freelancer.co.id/projects/software...  \n",
       "\n",
       "[314 rows x 4 columns]"
      ]
     },
     "execution_count": 12,
     "metadata": {},
     "output_type": "execute_result"
    }
   ],
   "source": [
    "df_informatika"
   ]
  },
  {
   "cell_type": "code",
   "execution_count": 96,
   "metadata": {},
   "outputs": [],
   "source": [
    "df_informatika['metadata'] = df_informatika['title'] + ' and the description: ' + df_informatika['description'] + \"| Price: \" + df_informatika[\"price\"] + \"| link: \" + df_informatika[\"link\"]\n",
    "df_bisnis['metadata'] = df_bisnis['title'] + ' and the description: ' + df_bisnis['description'] + \"| Price: \" + df_bisnis[\"price\"] + \"| link: \" + df_bisnis[\"link\"]\n",
    "df_desain['metadata'] = df_desain['title'] + ' and the description: ' + df_desain['description'] + \"| Price: \" + df_desain[\"price\"] + \"| link: \" + df_desain[\"link\"]"
   ]
  },
  {
   "cell_type": "code",
   "execution_count": 97,
   "metadata": {},
   "outputs": [
    {
     "name": "stderr",
     "output_type": "stream",
     "text": [
      "D:\\codingproject\\Fastwork - Freelance Projek Rekomendation\\env\\Lib\\site-packages\\huggingface_hub\\file_download.py:1132: FutureWarning: `resume_download` is deprecated and will be removed in version 1.0.0. Downloads always resume when possible. If you want to force a new download, use `force_download=True`.\n",
      "  warnings.warn(\n"
     ]
    }
   ],
   "source": [
    "model = SentenceTransformer(\"sentence-transformers/all-MiniLM-L6-v2\")\n",
    "\n",
    "df_informatika = model.encode(df_informatika[\"metadata\"])\n",
    "df_bisnis = model.encode(df_bisnis[\"metadata\"])\n",
    "df_desain = model.encode(df_desain[\"metadata\"])"
   ]
  },
  {
   "cell_type": "code",
   "execution_count": 99,
   "metadata": {},
   "outputs": [],
   "source": [
    "import json\n",
    "\n",
    "with open(\"data_meta/informatika_embed.json\", \"w\") as f:\n",
    "    data = json.dump(df_informatika.tolist(), f)\n",
    "\n",
    "with open(\"data_meta/bisnis_embed.json\", \"w\") as f:\n",
    "    data = json.dump(df_bisnis.tolist(), f)\n",
    "\n",
    "with open(\"data_meta/desain_embed.json\", \"w\") as f:\n",
    "    data = json.dump(df_desain.tolist(), f)"
   ]
  },
  {
   "cell_type": "code",
   "execution_count": 101,
   "metadata": {},
   "outputs": [],
   "source": [
    "similarity_vector_data = {\n",
    "    \"Teknik Informatika\": \"data_meta/informatika_embed.json\",\n",
    "    \"Manajemen Bisnis\": \"data_meta/bisnis_embed.json\",\n",
    "    \"Desain Grafis\": \"data_meta/desain_embed.json\"\n",
    "}\n",
    "\n",
    "def recommendation_freelance(predict, user_input):\n",
    "    # Load the corresponding data\n",
    "    with open(similarity_vector_data[predict], \"r\") as f:\n",
    "        data = json.load(f)\n",
    "    \n",
    "    # Ensure data is a 2D array\n",
    "    data = np.array(data)\n",
    "    \n",
    "    # Translate and encode the user input\n",
    "    user_input_translated = GoogleTranslator(target='en').translate(user_input)\n",
    "    user_embedding = model.encode([user_input_translated])\n",
    "    \n",
    "    # Ensure the user embedding is 2D\n",
    "    user_embedding = np.array(user_embedding).reshape(1, -1)\n",
    "    \n",
    "    # Calculate cosine similarity\n",
    "    similarities = cosine_similarity(user_embedding, data)\n",
    "    \n",
    "    # Find the index of the most similar project\n",
    "    top_3_indices = np.argsort(similarities[0])[-3:][::-1]\n",
    "\n",
    "    df = pd.read_csv(\"data/Freelance_Manajemen_Bisnis_Data.csv\")\n",
    "    similarity_data = df.loc[top_3_indices]\n",
    "    \n",
    "    return similarity_data"
   ]
  },
  {
   "cell_type": "code",
   "execution_count": 103,
   "metadata": {},
   "outputs": [
    {
     "data": {
      "text/html": [
       "<div>\n",
       "<style scoped>\n",
       "    .dataframe tbody tr th:only-of-type {\n",
       "        vertical-align: middle;\n",
       "    }\n",
       "\n",
       "    .dataframe tbody tr th {\n",
       "        vertical-align: top;\n",
       "    }\n",
       "\n",
       "    .dataframe thead th {\n",
       "        text-align: right;\n",
       "    }\n",
       "</style>\n",
       "<table border=\"1\" class=\"dataframe\">\n",
       "  <thead>\n",
       "    <tr style=\"text-align: right;\">\n",
       "      <th></th>\n",
       "      <th>title</th>\n",
       "      <th>price</th>\n",
       "      <th>description</th>\n",
       "      <th>link</th>\n",
       "    </tr>\n",
       "  </thead>\n",
       "  <tbody>\n",
       "    <tr>\n",
       "      <th>235</th>\n",
       "      <td>Financial PR Specialist Needed</td>\n",
       "      <td>₹1500-12500 INR</td>\n",
       "      <td>I am seeking a Public Relations professional, ...</td>\n",
       "      <td>https://www.freelancer.co.id/projects/financia...</td>\n",
       "    </tr>\n",
       "    <tr>\n",
       "      <th>100</th>\n",
       "      <td>IT Sales Specialist for Software Projects</td>\n",
       "      <td>₹1500-12500 INR</td>\n",
       "      <td>I'm looking for a driven sales professional wh...</td>\n",
       "      <td>https://www.freelancer.co.id/projects/lead-gen...</td>\n",
       "    </tr>\n",
       "    <tr>\n",
       "      <th>76</th>\n",
       "      <td>Cold Caller for Accounting Services Startup</td>\n",
       "      <td>₹600-1500 INR</td>\n",
       "      <td>I'm seeking a skilled cold caller to generate ...</td>\n",
       "      <td>https://www.freelancer.co.id/projects/telemark...</td>\n",
       "    </tr>\n",
       "  </tbody>\n",
       "</table>\n",
       "</div>"
      ],
      "text/plain": [
       "                                           title            price  \\\n",
       "235               Financial PR Specialist Needed  ₹1500-12500 INR   \n",
       "100    IT Sales Specialist for Software Projects  ₹1500-12500 INR   \n",
       "76   Cold Caller for Accounting Services Startup    ₹600-1500 INR   \n",
       "\n",
       "                                           description  \\\n",
       "235  I am seeking a Public Relations professional, ...   \n",
       "100  I'm looking for a driven sales professional wh...   \n",
       "76   I'm seeking a skilled cold caller to generate ...   \n",
       "\n",
       "                                                  link  \n",
       "235  https://www.freelancer.co.id/projects/financia...  \n",
       "100  https://www.freelancer.co.id/projects/lead-gen...  \n",
       "76   https://www.freelancer.co.id/projects/telemark...  "
      ]
     },
     "execution_count": 103,
     "metadata": {},
     "output_type": "execute_result"
    }
   ],
   "source": [
    "# Example usage\n",
    "most_similar_index = recommendation_freelance(\n",
    "    \"Manajemen Bisnis\", \n",
    "    \"Saya memiliki kemampuan dalam melakukan pemukuan dalam ranah perusahaan, saya pernah bekerja di bidang Finance untuk menghandle keuangan di perusahaan tersebut.\"\n",
    ")\n",
    "\n",
    "most_similar_index"
   ]
  },
  {
   "cell_type": "code",
   "execution_count": 4,
   "metadata": {},
   "outputs": [],
   "source": [
    "df_bisnis = pd.read_csv(\"data/Freelance_Manajemen_Bisnis_Data.csv\")\n",
    "df = df_bisnis.loc[[235, 212]]"
   ]
  },
  {
   "cell_type": "code",
   "execution_count": 8,
   "metadata": {},
   "outputs": [
    {
     "data": {
      "text/html": [
       "<div>\n",
       "<style scoped>\n",
       "    .dataframe tbody tr th:only-of-type {\n",
       "        vertical-align: middle;\n",
       "    }\n",
       "\n",
       "    .dataframe tbody tr th {\n",
       "        vertical-align: top;\n",
       "    }\n",
       "\n",
       "    .dataframe thead th {\n",
       "        text-align: right;\n",
       "    }\n",
       "</style>\n",
       "<table border=\"1\" class=\"dataframe\">\n",
       "  <thead>\n",
       "    <tr style=\"text-align: right;\">\n",
       "      <th></th>\n",
       "      <th>title</th>\n",
       "      <th>price</th>\n",
       "      <th>description</th>\n",
       "      <th>link</th>\n",
       "    </tr>\n",
       "  </thead>\n",
       "  <tbody>\n",
       "    <tr>\n",
       "      <th>235</th>\n",
       "      <td>Financial PR Specialist Needed</td>\n",
       "      <td>₹1500-12500 INR</td>\n",
       "      <td>I am seeking a Public Relations professional, ...</td>\n",
       "      <td>https://www.freelancer.co.id/projects/financia...</td>\n",
       "    </tr>\n",
       "    <tr>\n",
       "      <th>212</th>\n",
       "      <td>Proactive Sales Rep Wanted for Moving Co.</td>\n",
       "      <td>$10000-20000 USD</td>\n",
       "      <td>I'm seeking a self-motivated, target-driven Sa...</td>\n",
       "      <td>https://www.freelancer.co.id/projects/market-r...</td>\n",
       "    </tr>\n",
       "  </tbody>\n",
       "</table>\n",
       "</div>"
      ],
      "text/plain": [
       "                                         title             price  \\\n",
       "235             Financial PR Specialist Needed   ₹1500-12500 INR   \n",
       "212  Proactive Sales Rep Wanted for Moving Co.  $10000-20000 USD   \n",
       "\n",
       "                                           description  \\\n",
       "235  I am seeking a Public Relations professional, ...   \n",
       "212  I'm seeking a self-motivated, target-driven Sa...   \n",
       "\n",
       "                                                  link  \n",
       "235  https://www.freelancer.co.id/projects/financia...  \n",
       "212  https://www.freelancer.co.id/projects/market-r...  "
      ]
     },
     "execution_count": 8,
     "metadata": {},
     "output_type": "execute_result"
    }
   ],
   "source": [
    "df"
   ]
  },
  {
   "cell_type": "code",
   "execution_count": 10,
   "metadata": {},
   "outputs": [
    {
     "name": "stdout",
     "output_type": "stream",
     "text": [
      "Financial PR Specialist Needed\n",
      "₹1500-12500 INR\n",
      "I am seeking a Public Relations professional, ideally with significant experience in the finance industry. The successful applicant will be responsible for developing and executing press releases and managing media relations, catering specifically to industry professionals. \n",
      "\n",
      "Key Tasks:\n",
      "- Press release creation and distribution\n",
      "- Building and maintaining media relationships within the financial industry\n",
      "\n",
      "Ideal Skills:\n",
      "- Experience in finance-related PR\n",
      "- Proficiency in tailoring messages for industry professionals\n",
      "- Strong communication and networking abilities\n",
      "\n",
      "If you have a proven track record of creating palpable buzz in the finance industry and are adept at targeting industry professionals, I am looking forward to your bid.\n",
      "https://www.freelancer.co.id/projects/financial-research/financial-specialist-needed\n"
     ]
    }
   ],
   "source": [
    "print(df.iloc[0][\"title\"])\n",
    "print(df.iloc[0][\"price\"])\n",
    "print(df.iloc[0][\"description\"])\n",
    "print(df.iloc[0][\"link\"])"
   ]
  },
  {
   "cell_type": "code",
   "execution_count": null,
   "metadata": {},
   "outputs": [],
   "source": []
  }
 ],
 "metadata": {
  "kernelspec": {
   "display_name": "Python 3 (ipykernel)",
   "language": "python",
   "name": "python3"
  },
  "language_info": {
   "codemirror_mode": {
    "name": "ipython",
    "version": 3
   },
   "file_extension": ".py",
   "mimetype": "text/x-python",
   "name": "python",
   "nbconvert_exporter": "python",
   "pygments_lexer": "ipython3",
   "version": "3.11.5"
  }
 },
 "nbformat": 4,
 "nbformat_minor": 4
}

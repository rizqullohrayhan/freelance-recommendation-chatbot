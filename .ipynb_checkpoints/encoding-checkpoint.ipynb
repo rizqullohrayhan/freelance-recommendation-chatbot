{
 "cells": [
  {
   "cell_type": "code",
   "execution_count": 93,
   "metadata": {},
   "outputs": [],
   "source": [
    "import pandas as pd\n",
    "from sentence_transformers import SentenceTransformer\n",
    "import numpy as np\n",
    "from sklearn.metrics.pairwise import cosine_similarity\n",
    "from deep_translator import GoogleTranslator\n",
    "import ast"
   ]
  },
  {
   "cell_type": "code",
   "execution_count": 94,
   "metadata": {},
   "outputs": [],
   "source": [
    "df_informatika = pd.read_csv(\"data/Freelance_Teknik_Informatika_Data.csv\")\n",
    "df_bisnis = pd.read_csv(\"data/Freelance_Manajemen_Bisnis_Data.csv\")\n",
    "df_desain = pd.read_csv(\"data/Freelance_Desain_Grafis_Data.csv\")"
   ]
  },
  {
   "cell_type": "code",
   "execution_count": 95,
   "metadata": {},
   "outputs": [
    {
     "data": {
      "text/html": [
       "<div>\n",
       "<style scoped>\n",
       "    .dataframe tbody tr th:only-of-type {\n",
       "        vertical-align: middle;\n",
       "    }\n",
       "\n",
       "    .dataframe tbody tr th {\n",
       "        vertical-align: top;\n",
       "    }\n",
       "\n",
       "    .dataframe thead th {\n",
       "        text-align: right;\n",
       "    }\n",
       "</style>\n",
       "<table border=\"1\" class=\"dataframe\">\n",
       "  <thead>\n",
       "    <tr style=\"text-align: right;\">\n",
       "      <th></th>\n",
       "      <th>title</th>\n",
       "      <th>price</th>\n",
       "      <th>description</th>\n",
       "      <th>link</th>\n",
       "    </tr>\n",
       "  </thead>\n",
       "  <tbody>\n",
       "    <tr>\n",
       "      <th>0</th>\n",
       "      <td>Android Poker &amp; Slots Game</td>\n",
       "      <td>€250-750 EUR</td>\n",
       "      <td>I Am Looking For A Game Developer That Has Exp...</td>\n",
       "      <td>https://www.freelancer.co.id/projects/android/...</td>\n",
       "    </tr>\n",
       "    <tr>\n",
       "      <th>1</th>\n",
       "      <td>Android Gaming App Play Store Upload</td>\n",
       "      <td>₹1500-12500 INR</td>\n",
       "      <td>I need an experienced developer to successfull...</td>\n",
       "      <td>https://www.freelancer.co.id/projects/android/...</td>\n",
       "    </tr>\n",
       "    <tr>\n",
       "      <th>2</th>\n",
       "      <td>High-Quality Social Networking App Developer</td>\n",
       "      <td>$750-1500 CAD</td>\n",
       "      <td>I'm looking for a skilled app developer who ha...</td>\n",
       "      <td>https://www.freelancer.co.id/projects/iphone-a...</td>\n",
       "    </tr>\n",
       "    <tr>\n",
       "      <th>3</th>\n",
       "      <td>Predictive Analytics from Tabular Data</td>\n",
       "      <td>₹600-1500 INR</td>\n",
       "      <td>I need a skilled machine learning specialist t...</td>\n",
       "      <td>https://www.freelancer.co.id/projects/google-a...</td>\n",
       "    </tr>\n",
       "    <tr>\n",
       "      <th>4</th>\n",
       "      <td>Advanced E-commerce Joomla Developer</td>\n",
       "      <td>₹3000-5000 INR</td>\n",
       "      <td>I'm seeking a skilled Joomla developer to work...</td>\n",
       "      <td>https://www.freelancer.co.id/projects/joomla/a...</td>\n",
       "    </tr>\n",
       "  </tbody>\n",
       "</table>\n",
       "</div>"
      ],
      "text/plain": [
       "                                          title            price  \\\n",
       "0                    Android Poker & Slots Game     €250-750 EUR   \n",
       "1          Android Gaming App Play Store Upload  ₹1500-12500 INR   \n",
       "2  High-Quality Social Networking App Developer    $750-1500 CAD   \n",
       "3        Predictive Analytics from Tabular Data    ₹600-1500 INR   \n",
       "4          Advanced E-commerce Joomla Developer   ₹3000-5000 INR   \n",
       "\n",
       "                                         description  \\\n",
       "0  I Am Looking For A Game Developer That Has Exp...   \n",
       "1  I need an experienced developer to successfull...   \n",
       "2  I'm looking for a skilled app developer who ha...   \n",
       "3  I need a skilled machine learning specialist t...   \n",
       "4  I'm seeking a skilled Joomla developer to work...   \n",
       "\n",
       "                                                link  \n",
       "0  https://www.freelancer.co.id/projects/android/...  \n",
       "1  https://www.freelancer.co.id/projects/android/...  \n",
       "2  https://www.freelancer.co.id/projects/iphone-a...  \n",
       "3  https://www.freelancer.co.id/projects/google-a...  \n",
       "4  https://www.freelancer.co.id/projects/joomla/a...  "
      ]
     },
     "execution_count": 95,
     "metadata": {},
     "output_type": "execute_result"
    }
   ],
   "source": [
    "df_informatika.head()"
   ]
  },
  {
   "cell_type": "code",
   "execution_count": 96,
   "metadata": {},
   "outputs": [],
   "source": [
    "df_informatika['metadata'] = df_informatika['title'] + ' and the description: ' + df_informatika['description'] + \"| Price: \" + df_informatika[\"price\"] + \"| link: \" + df_informatika[\"link\"]\n",
    "df_bisnis['metadata'] = df_bisnis['title'] + ' and the description: ' + df_bisnis['description'] + \"| Price: \" + df_bisnis[\"price\"] + \"| link: \" + df_bisnis[\"link\"]\n",
    "df_desain['metadata'] = df_desain['title'] + ' and the description: ' + df_desain['description'] + \"| Price: \" + df_desain[\"price\"] + \"| link: \" + df_desain[\"link\"]"
   ]
  },
  {
   "cell_type": "code",
   "execution_count": 97,
   "metadata": {},
   "outputs": [
    {
     "name": "stderr",
     "output_type": "stream",
     "text": [
      "D:\\codingproject\\Fastwork - Freelance Projek Rekomendation\\env\\Lib\\site-packages\\huggingface_hub\\file_download.py:1132: FutureWarning: `resume_download` is deprecated and will be removed in version 1.0.0. Downloads always resume when possible. If you want to force a new download, use `force_download=True`.\n",
      "  warnings.warn(\n"
     ]
    }
   ],
   "source": [
    "model = SentenceTransformer(\"sentence-transformers/all-MiniLM-L6-v2\")\n",
    "\n",
    "df_informatika = model.encode(df_informatika[\"metadata\"])\n",
    "df_bisnis = model.encode(df_bisnis[\"metadata\"])\n",
    "df_desain = model.encode(df_desain[\"metadata\"])"
   ]
  },
  {
   "cell_type": "code",
   "execution_count": 99,
   "metadata": {},
   "outputs": [],
   "source": [
    "import json\n",
    "\n",
    "with open(\"data_meta/informatika_embed.json\", \"w\") as f:\n",
    "    data = json.dump(df_informatika.tolist(), f)\n",
    "\n",
    "with open(\"data_meta/bisnis_embed.json\", \"w\") as f:\n",
    "    data = json.dump(df_bisnis.tolist(), f)\n",
    "\n",
    "with open(\"data_meta/desain_embed.json\", \"w\") as f:\n",
    "    data = json.dump(df_desain.tolist(), f)"
   ]
  },
  {
   "cell_type": "code",
   "execution_count": 100,
   "metadata": {},
   "outputs": [],
   "source": [
    "similarity_vector_data = {\n",
    "    \"Teknik Informatika\": \"data_meta/informatika_embed.json\",\n",
    "    \"Manajemen Bisnis\": \"data_meta/bisnis_embed.json\",\n",
    "    \"Desain Grafis\": \"data_meta/desain_embed.json\"\n",
    "}\n",
    "\n",
    "def recommendation_freelance(predict, user_input):\n",
    "    # Load the corresponding data\n",
    "    with open(similarity_vector_data[predict], \"r\") as f:\n",
    "        data = json.load(f)\n",
    "    \n",
    "    # Ensure data is a 2D array\n",
    "    data = np.array(data)\n",
    "    \n",
    "    # Translate and encode the user input\n",
    "    user_input_translated = GoogleTranslator(target='en').translate(user_input)\n",
    "    user_embedding = model.encode([user_input_translated])\n",
    "    \n",
    "    # Ensure the user embedding is 2D\n",
    "    user_embedding = np.array(user_embedding).reshape(1, -1)\n",
    "    \n",
    "    # Calculate cosine similarity\n",
    "    similarities = cosine_similarity(user_embedding, data)\n",
    "    \n",
    "    # Find the index of the most similar project\n",
    "    top_3_indices = np.argsort(similarities[0])[-3:][::-1]\n",
    "    \n",
    "    return top_3_indices"
   ]
  },
  {
   "cell_type": "code",
   "execution_count": 84,
   "metadata": {},
   "outputs": [
    {
     "name": "stdout",
     "output_type": "stream",
     "text": [
      "Index of the most similar project: [235 100  76]\n"
     ]
    }
   ],
   "source": [
    "# Example usage\n",
    "most_similar_index = recommendation_freelance(\n",
    "    \"Manajemen Bisnis\", \n",
    "    \"Saya memiliki kemampuan dalam melakukan pemukuan dalam ranah perusahaan, saya pernah bekerja di bidang Finance untuk menghandle keuangan di perusahaan tersebut.\"\n",
    ")\n",
    "\n",
    "print(\"Index of the most similar project:\", most_similar_index)"
   ]
  },
  {
   "cell_type": "code",
   "execution_count": 92,
   "metadata": {},
   "outputs": [
    {
     "data": {
      "text/html": [
       "<div>\n",
       "<style scoped>\n",
       "    .dataframe tbody tr th:only-of-type {\n",
       "        vertical-align: middle;\n",
       "    }\n",
       "\n",
       "    .dataframe tbody tr th {\n",
       "        vertical-align: top;\n",
       "    }\n",
       "\n",
       "    .dataframe thead th {\n",
       "        text-align: right;\n",
       "    }\n",
       "</style>\n",
       "<table border=\"1\" class=\"dataframe\">\n",
       "  <thead>\n",
       "    <tr style=\"text-align: right;\">\n",
       "      <th></th>\n",
       "      <th>title</th>\n",
       "      <th>price</th>\n",
       "      <th>description</th>\n",
       "      <th>link</th>\n",
       "    </tr>\n",
       "  </thead>\n",
       "  <tbody>\n",
       "    <tr>\n",
       "      <th>235</th>\n",
       "      <td>Financial PR Specialist Needed</td>\n",
       "      <td>₹1500-12500 INR</td>\n",
       "      <td>I am seeking a Public Relations professional, ...</td>\n",
       "      <td>https://www.freelancer.co.id/projects/financia...</td>\n",
       "    </tr>\n",
       "    <tr>\n",
       "      <th>100</th>\n",
       "      <td>IT Sales Specialist for Software Projects</td>\n",
       "      <td>₹1500-12500 INR</td>\n",
       "      <td>I'm looking for a driven sales professional wh...</td>\n",
       "      <td>https://www.freelancer.co.id/projects/lead-gen...</td>\n",
       "    </tr>\n",
       "    <tr>\n",
       "      <th>76</th>\n",
       "      <td>Cold Caller for Accounting Services Startup</td>\n",
       "      <td>₹600-1500 INR</td>\n",
       "      <td>I'm seeking a skilled cold caller to generate ...</td>\n",
       "      <td>https://www.freelancer.co.id/projects/telemark...</td>\n",
       "    </tr>\n",
       "  </tbody>\n",
       "</table>\n",
       "</div>"
      ],
      "text/plain": [
       "                                           title            price  \\\n",
       "235               Financial PR Specialist Needed  ₹1500-12500 INR   \n",
       "100    IT Sales Specialist for Software Projects  ₹1500-12500 INR   \n",
       "76   Cold Caller for Accounting Services Startup    ₹600-1500 INR   \n",
       "\n",
       "                                           description  \\\n",
       "235  I am seeking a Public Relations professional, ...   \n",
       "100  I'm looking for a driven sales professional wh...   \n",
       "76   I'm seeking a skilled cold caller to generate ...   \n",
       "\n",
       "                                                  link  \n",
       "235  https://www.freelancer.co.id/projects/financia...  \n",
       "100  https://www.freelancer.co.id/projects/lead-gen...  \n",
       "76   https://www.freelancer.co.id/projects/telemark...  "
      ]
     },
     "execution_count": 92,
     "metadata": {},
     "output_type": "execute_result"
    }
   ],
   "source": [
    "df_bisnis = pd.read_csv(\"data/Freelance_Manajemen_Bisnis_Data.csv\")\n",
    "df_bisnis.loc[[235, 100, 76]]"
   ]
  },
  {
   "cell_type": "code",
   "execution_count": null,
   "metadata": {},
   "outputs": [],
   "source": []
  }
 ],
 "metadata": {
  "kernelspec": {
   "display_name": "Python 3 (ipykernel)",
   "language": "python",
   "name": "python3"
  },
  "language_info": {
   "codemirror_mode": {
    "name": "ipython",
    "version": 3
   },
   "file_extension": ".py",
   "mimetype": "text/x-python",
   "name": "python",
   "nbconvert_exporter": "python",
   "pygments_lexer": "ipython3",
   "version": "3.11.5"
  }
 },
 "nbformat": 4,
 "nbformat_minor": 4
}
